{
 "cells": [
  {
   "cell_type": "code",
   "execution_count": 1,
   "metadata": {},
   "outputs": [],
   "source": [
    "# Import pandas\n",
    "import pandas as pd"
   ]
  },
  {
   "cell_type": "code",
   "execution_count": 2,
   "metadata": {},
   "outputs": [],
   "source": [
    "# Load the school and student data\n",
    "school_data_file = \"Resources/schools_complete.csv\"\n",
    "student_data_file = \"Resources/students_complete.csv\""
   ]
  },
  {
   "cell_type": "code",
   "execution_count": 3,
   "metadata": {},
   "outputs": [],
   "source": [
    "# Create the data frames\n",
    "school_data = pd.read_csv(school_data_file)\n",
    "student_data = pd.read_csv(student_data_file)"
   ]
  },
  {
   "cell_type": "code",
   "execution_count": 4,
   "metadata": {},
   "outputs": [],
   "source": [
    "# Combine the data into a single dataset.  \n",
    "school_data_all = pd.merge(student_data, school_data, how=\"left\", on=[\"school_name\", \"school_name\"])"
   ]
  },
  {
   "cell_type": "code",
   "execution_count": 5,
   "metadata": {},
   "outputs": [],
   "source": [
    "# District Summary\n",
    "\n",
    "#Get the total number of schools, students and budget for the district\n",
    "total_nbr_schools = school_data[\"school_name\"].count()\n",
    "total_nbr_students = student_data[\"Student ID\"].count()\n",
    "total_budget = school_data[\"budget\"].sum()\n",
    "\n",
    "#Determine the average math and reading scores\n",
    "avg_math_score = student_data[\"math_score\"].mean()\n",
    "avg_reading_score = student_data[\"reading_score\"].mean()\n",
    "\n",
    "#Determine the percent that passed math, reading and both (>= 70%)\n",
    "percent_math_pass = ((student_data[\"math_score\"] >= 70).sum()) / total_nbr_students * 100\n",
    "percent_reading_pass = ((student_data[\"reading_score\"] >= 70).sum()) / total_nbr_students * 100\n",
    "percent_overall_pass = (((student_data[\"reading_score\"] >= 70) & (student_data[\"math_score\"] >= 70)).sum()) \\\n",
    "/ total_nbr_students * 100"
   ]
  },
  {
   "cell_type": "code",
   "execution_count": 6,
   "metadata": {},
   "outputs": [
    {
     "data": {
      "text/html": [
       "<div>\n",
       "<style scoped>\n",
       "    .dataframe tbody tr th:only-of-type {\n",
       "        vertical-align: middle;\n",
       "    }\n",
       "\n",
       "    .dataframe tbody tr th {\n",
       "        vertical-align: top;\n",
       "    }\n",
       "\n",
       "    .dataframe thead th {\n",
       "        text-align: right;\n",
       "    }\n",
       "</style>\n",
       "<table border=\"1\" class=\"dataframe\">\n",
       "  <thead>\n",
       "    <tr style=\"text-align: right;\">\n",
       "      <th></th>\n",
       "      <th>Total Schools</th>\n",
       "      <th>Total Students</th>\n",
       "      <th>Total Budget</th>\n",
       "      <th>Average Math Score</th>\n",
       "      <th>Average Reading Score</th>\n",
       "      <th>% Passing Math</th>\n",
       "      <th>% Passing Reading</th>\n",
       "      <th>% Overall Passing</th>\n",
       "    </tr>\n",
       "  </thead>\n",
       "  <tbody>\n",
       "    <tr>\n",
       "      <th>0</th>\n",
       "      <td>15</td>\n",
       "      <td>39170</td>\n",
       "      <td>24649428</td>\n",
       "      <td>78.985371</td>\n",
       "      <td>81.87784</td>\n",
       "      <td>74.980853</td>\n",
       "      <td>85.805463</td>\n",
       "      <td>65.172326</td>\n",
       "    </tr>\n",
       "  </tbody>\n",
       "</table>\n",
       "</div>"
      ],
      "text/plain": [
       "   Total Schools  Total Students  Total Budget  Average Math Score  \\\n",
       "0             15           39170      24649428           78.985371   \n",
       "\n",
       "   Average Reading Score  % Passing Math  % Passing Reading  % Overall Passing  \n",
       "0               81.87784       74.980853          85.805463          65.172326  "
      ]
     },
     "execution_count": 6,
     "metadata": {},
     "output_type": "execute_result"
    }
   ],
   "source": [
    "#Put the district data from above into a data frame\n",
    "district_summary_info_df = pd.DataFrame({\"Total Schools\": [total_nbr_schools],\n",
    "                              \"Total Students\": [total_nbr_students],\n",
    "                              \"Total Budget\": [total_budget],\n",
    "                              \"Average Math Score\": [avg_math_score],\n",
    "                              \"Average Reading Score\": [avg_reading_score],\n",
    "                              \"% Passing Math\": [percent_math_pass],\n",
    "                              \"% Passing Reading\": [percent_reading_pass],\n",
    "                              \"% Overall Passing\": [percent_overall_pass] })\n",
    "district_summary_info_df"
   ]
  },
  {
   "cell_type": "code",
   "execution_count": null,
   "metadata": {},
   "outputs": [],
   "source": []
  },
  {
   "cell_type": "code",
   "execution_count": null,
   "metadata": {},
   "outputs": [],
   "source": [
    "#Format the data into a nice format\n",
    "district_summary_info_df[\"Total Students\"] = district_summary_info_df[\"Total Students\"].map(\"{:,}\".format)\n",
    "district_summary_info_df[\"Total Budget\"] = district_summary_info_df[\"Total Budget\"].map(\"${:,.2f}\".format)\n",
    "district_summary_info_df[\"Average Math Score\"] = (district_summary_info_df[\"Average Math Score\"] / 100)\\\n",
    "                                                 .map(\"{:.2%}\".format)\n",
    "district_summary_info_df[\"Average Reading Score\"] = (district_summary_info_df[\"Average Reading Score\"] / 100)\\\n",
    "                                                    .map(\"{:.2%}\".format)\n",
    "district_summary_info_df[\"% Passing Math\"] = (district_summary_info_df[\"% Passing Math\"] / 100).map(\"{:.2%}\".format)\n",
    "district_summary_info_df[\"% Passing Reading\"] = (district_summary_info_df[\"% Passing Reading\"] / 100)\\\n",
    "                                                .map(\"{:.2%}\".format)\n",
    "district_summary_info_df[\"% Overall Passing\"] = (district_summary_info_df[\"% Overall Passing\"] / 100)\\\n",
    "                                                .map(\"{:.2%}\".format)\n",
    "\n",
    "district_summary_info_df"
   ]
  },
  {
   "cell_type": "code",
   "execution_count": null,
   "metadata": {},
   "outputs": [],
   "source": []
  },
  {
   "cell_type": "code",
   "execution_count": null,
   "metadata": {},
   "outputs": [],
   "source": [
    "# School Summary\n",
    "\n",
    "#Group the data by school so we can get individual school data\n",
    "grouped_schools_df = school_data_all.groupby([\"school_name\", \"type\"])\n",
    "\n",
    "#Get each school budget and number of students\n",
    "school_budget = grouped_schools_df[\"budget\"].min()\n",
    "school_nbr_students = grouped_schools_df[\"Student ID\"].count()\n",
    "\n",
    "#Get the average math and reading scores\n",
    "school_avg_math = grouped_schools_df[\"math_score\"].mean()\n",
    "school_avg_reading = grouped_schools_df[\"reading_score\"].mean()\n",
    "\n",
    "#Determine the budget per student\n",
    "per_student = school_budget / school_nbr_students\n",
    "\n",
    "#Get the percent passing math\n",
    "percent_passing_math = school_data_all[school_data_all[\"math_score\"] >= 70].groupby([\"school_name\"])\n",
    "percent_passing_math = percent_passing_math[\"math_score\"].count() / school_nbr_students * 100\n",
    "\n",
    "#Get the percent passing math\n",
    "percent_passing_reading = school_data_all[school_data_all[\"reading_score\"] >= 70].groupby([\"school_name\"])\n",
    "percent_passing_reading = percent_passing_reading[\"reading_score\"].count() / school_nbr_students * 100\n",
    "\n",
    "#Get the percent passing both\n",
    "percent_passing_both = school_data_all[(school_data_all[\"reading_score\"] >= 70) & \\\n",
    "                                       (school_data_all[\"math_score\"] >= 70)].groupby([\"school_name\"])\n",
    "percent_passing_both = percent_passing_both[\"reading_score\"].count() / school_nbr_students * 100\n"
   ]
  },
  {
   "cell_type": "code",
   "execution_count": null,
   "metadata": {},
   "outputs": [],
   "source": [
    "#Add the information above into a data frame\n",
    "school_summary_df = pd.DataFrame({\"Total Students\": school_nbr_students,\n",
    "                           \"Total School Budget\": school_budget,\n",
    "                           \"Per Student Budget\": per_student,\n",
    "                           \"Average Math Scores\": school_avg_math,\n",
    "                           \"Average Reading Scores\": school_avg_reading,\n",
    "                           \"% Passing Math\": percent_passing_math,\n",
    "                           \"% Passing Reading\": percent_passing_reading,\n",
    "                           \"% Overall Passing\": percent_passing_both })\n",
    "\n",
    "school_summary_df"
   ]
  },
  {
   "cell_type": "code",
   "execution_count": null,
   "metadata": {},
   "outputs": [],
   "source": []
  },
  {
   "cell_type": "code",
   "execution_count": null,
   "metadata": {},
   "outputs": [],
   "source": [
    "#Top Performing Schools (By % Overall Passing)\n",
    "\n",
    "#Sort to get the top performing schools\n",
    "top_performing = school_summary_df.sort_values(\"% Overall Passing\", ascending=False)\n",
    "top_performing.head()"
   ]
  },
  {
   "cell_type": "code",
   "execution_count": null,
   "metadata": {},
   "outputs": [],
   "source": []
  },
  {
   "cell_type": "code",
   "execution_count": null,
   "metadata": {},
   "outputs": [],
   "source": [
    "#Bottom Performing Schools (By % Overall Passing)\n",
    "\n",
    "#Sort to get the bottom performing schools\n",
    "bottom_performing = school_summary_df.sort_values(\"% Overall Passing\", ascending=True)\n",
    "bottom_performing.head()"
   ]
  },
  {
   "cell_type": "code",
   "execution_count": null,
   "metadata": {},
   "outputs": [],
   "source": [
    "#Math Scores by Grade\n",
    "\n",
    "#Get average math scores for each grade\n",
    "nineth_grade_math = school_data_all[school_data_all[\"grade\"] == \"9th\"].groupby([\"school_name\"])\n",
    "nineth_grade_math = nineth_grade_math[\"math_score\"].mean()\n",
    "\n",
    "tenth_grade_math = school_data_all[school_data_all[\"grade\"] == \"10th\"].groupby([\"school_name\"])\n",
    "tenth_grade_math = tenth_grade_math[\"math_score\"].mean()\n",
    "\n",
    "eleventh_grade_math = school_data_all[school_data_all[\"grade\"] == \"11th\"].groupby([\"school_name\"])\n",
    "eleventh_grade_math = eleventh_grade_math[\"math_score\"].mean()\n",
    "\n",
    "twelveth_grade_math = school_data_all[school_data_all[\"grade\"] == \"12th\"].groupby([\"school_name\"])\n",
    "twelveth_grade_math = twelveth_grade_math[\"math_score\"].mean()"
   ]
  },
  {
   "cell_type": "code",
   "execution_count": null,
   "metadata": {},
   "outputs": [],
   "source": [
    "#Put data into data frame\n",
    "math_grade_summary_df = pd.DataFrame({\"9th\": nineth_grade_math,\n",
    "                           \"10th\": tenth_grade_math,\n",
    "                           \"11th\": eleventh_grade_math,\n",
    "                           \"12th\": twelveth_grade_math })\n",
    "\n",
    "math_grade_summary_df"
   ]
  },
  {
   "cell_type": "code",
   "execution_count": null,
   "metadata": {},
   "outputs": [],
   "source": []
  },
  {
   "cell_type": "code",
   "execution_count": null,
   "metadata": {},
   "outputs": [],
   "source": [
    "#Reading Score by Grade\n",
    "\n",
    "#Get average math scores for each grade\n",
    "nineth_grade_reading = school_data_all[school_data_all[\"grade\"] == \"9th\"].groupby([\"school_name\"])\n",
    "nineth_grade_reading = nineth_grade_reading[\"reading_score\"].mean()\n",
    "\n",
    "tenth_grade_reading = school_data_all[school_data_all[\"grade\"] == \"10th\"].groupby([\"school_name\"])\n",
    "tenth_grade_reading = tenth_grade_reading[\"reading_score\"].mean()\n",
    "\n",
    "eleventh_grade_reading = school_data_all[school_data_all[\"grade\"] == \"11th\"].groupby([\"school_name\"])\n",
    "eleventh_grade_reading = eleventh_grade_reading[\"reading_score\"].mean()\n",
    "\n",
    "twelveth_grade_reading = school_data_all[school_data_all[\"grade\"] == \"12th\"].groupby([\"school_name\"])\n",
    "twelveth_grade_reading = twelveth_grade_reading[\"reading_score\"].mean()"
   ]
  },
  {
   "cell_type": "code",
   "execution_count": null,
   "metadata": {},
   "outputs": [],
   "source": [
    "#Put data into data frame\n",
    "math_grade_summary_df = pd.DataFrame({\"9th\": nineth_grade_reading,\n",
    "                           \"10th\": tenth_grade_reading,\n",
    "                           \"11th\": eleventh_grade_reading,\n",
    "                           \"12th\": twelveth_grade_reading})\n",
    "\n",
    "math_grade_summary_df"
   ]
  },
  {
   "cell_type": "code",
   "execution_count": null,
   "metadata": {},
   "outputs": [],
   "source": []
  },
  {
   "cell_type": "code",
   "execution_count": null,
   "metadata": {},
   "outputs": [],
   "source": [
    "#Scores by School Spending\n",
    "\n",
    "#Set the bins and lables for school spending\n",
    "bins = [0, 585, 630, 645, 676]\n",
    "labels = [\"<$584\", \"$585-629\", \"$630-644\", \"$645-675\"]\n",
    "\n",
    "#Create a new data frame with the school summary dataframe\n",
    "school_spending_df = school_summary_df\n",
    "\n",
    "#Cut the data into the bins with the labels\n",
    "school_spending_df[\"Spending Ranges (Per Student)\"] = pd.cut(school_spending_df[\"Per Student Budget\"], \\\n",
    "                                              bins, labels=labels, include_lowest=False)\n",
    "\n",
    "#Group by the spending ranges\n",
    "school_spending_df = school_spending_df.groupby(\"Spending Ranges (Per Student)\")\n",
    "\n",
    "#Only take the columns we want\n",
    "school_spending_df = school_spending_df[[\"Average Math Scores\", \"Average Reading Scores\", \\\n",
    "                                         \"% Passing Math\", \"% Passing Reading\", \"% Overall Passing\"]]\n",
    "#Get the data\n",
    "school_spending_df.mean() "
   ]
  },
  {
   "cell_type": "code",
   "execution_count": null,
   "metadata": {},
   "outputs": [],
   "source": []
  },
  {
   "cell_type": "code",
   "execution_count": null,
   "metadata": {},
   "outputs": [],
   "source": [
    "#Scores by School Size\n",
    "\n",
    "#Set the bins and lables for school spending\n",
    "bins = [0, 1000, 2000, 5000]\n",
    "labels = [\"Small (<1000)\", \"Medium (1000-2000)\", \"Large (2000-5000)\"]\n",
    "\n",
    "#Create a new data frame with the school summary dataframe\n",
    "school_size_df = school_summary_df\n",
    "\n",
    "#Cut the data into the bins with the labels\n",
    "school_size_df[\"School Size\"] = pd.cut(school_size_df[\"Total Students\"], bins, labels=labels, include_lowest=False)\n",
    "\n",
    "#Group by the school size\n",
    "school_size_df = school_size_df.groupby(\"School Size\")\n",
    "\n",
    "#Only take the columns we want\n",
    "school_size_df = school_size_df[[\"Average Math Scores\", \"Average Reading Scores\", \\\n",
    "                                         \"% Passing Math\", \"% Passing Reading\", \"% Overall Passing\"]]\n",
    "#Display the data\n",
    "school_size_df.mean() "
   ]
  },
  {
   "cell_type": "code",
   "execution_count": null,
   "metadata": {},
   "outputs": [],
   "source": []
  },
  {
   "cell_type": "code",
   "execution_count": null,
   "metadata": {},
   "outputs": [],
   "source": [
    "#Scores by School Type\n",
    "\n",
    "#Create a new data frame with the school summary dataframe\n",
    "school_type_df = school_summary_df\n",
    "\n",
    "#Group the data by school type\n",
    "school_type_df = school_type_df.groupby(\"type\")\n",
    "\n",
    "#Only take the columns we want\n",
    "school_type_df = school_type_df[[\"Average Math Scores\", \"Average Reading Scores\", \\\n",
    "                                         \"% Passing Math\", \"% Passing Reading\", \"% Overall Passing\"]]\n",
    "#Display the data\n",
    "school_type_df.mean() "
   ]
  },
  {
   "cell_type": "code",
   "execution_count": null,
   "metadata": {},
   "outputs": [],
   "source": []
  }
 ],
 "metadata": {
  "kernelspec": {
   "display_name": "Python 3",
   "language": "python",
   "name": "python3"
  },
  "language_info": {
   "codemirror_mode": {
    "name": "ipython",
    "version": 3
   },
   "file_extension": ".py",
   "mimetype": "text/x-python",
   "name": "python",
   "nbconvert_exporter": "python",
   "pygments_lexer": "ipython3",
   "version": "3.7.6"
  }
 },
 "nbformat": 4,
 "nbformat_minor": 4
}
